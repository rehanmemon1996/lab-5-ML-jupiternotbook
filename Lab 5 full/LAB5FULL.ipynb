{
 "cells": [
  {
   "cell_type": "code",
   "execution_count": null,
   "id": "67232bad",
   "metadata": {},
   "outputs": [],
   "source": [
    "import pandas as pd\n",
    "import matplotlib\n",
    "import matplotlib.pyplot as plt\n",
    "matplotlib.style.use('ggplot') # Look Pretty, ggplot is Python implementation of the grammar of graphics.\n",
    "# If the above line throws an error, use plt.style.use('ggplot') instead\n",
    "\t\n",
    "df = pd.read_csv(\"C:/Users/Mehak/Desktop/DataScience/wheat.csv\", index_col=0)\n",
    "#Prints columns in present in your csv file\n",
    "print(df.columns)\t\n",
    "\n",
    "#Creates a squence named as my_series_series using asymetry column\n",
    "my_series = df.asymmetry\n",
    "\n",
    "#Creates a dataframe named as my_dataframe using  provided columns\n",
    "my_dataframe = df[['wheat_type', 'length', 'asymmetry']] \n",
    "\t\n",
    "#Histogram creation of sequence\n",
    "my_series.plot.hist(alpha=0.5)\n",
    "plt.show()\n",
    "\n",
    "#Histogram creation of dataframe\n",
    "my_dataframe.plot.hist(alpha=0.5)\n",
    "plt.show()\n",
    "\n",
    "#Histogram creation based on particular condition\n",
    "df[df.wheat_type==1].asymmetry.plot.hist(alpha=0.4)#Kama\n",
    "df[df.wheat_type==2].asymmetry.plot.hist(alpha=0.4)#Rosa\n",
    "df[df.wheat_type==3].asymmetry.plot.hist(alpha=0.4)#Canadian\n",
    "plt.show()\n"
   ]
  },
  {
   "cell_type": "code",
   "execution_count": 1,
   "id": "f3b802d6",
   "metadata": {},
   "outputs": [],
   "source": [
    "import pandas as pd\n",
    "import matplotlib\n",
    "import matplotlib.pyplot as plt\n",
    "matplotlib.style.use('ggplot')\n",
    "\n",
    " # Look Pretty, ggplot is Python implementation of the grammar of graphics.\n",
    "# If the above line throws an error, use plt.style.use('ggplot') instead\n",
    "\t"
   ]
  },
  {
   "cell_type": "code",
   "execution_count": 2,
   "id": "0bacf3d6",
   "metadata": {},
   "outputs": [
    {
     "ename": "SyntaxError",
     "evalue": "invalid syntax (1244665012.py, line 1)",
     "output_type": "error",
     "traceback": [
      "\u001b[1;36m  File \u001b[1;32m\"C:\\Users\\Rehan Memon\\AppData\\Local\\Temp\\ipykernel_18864\\1244665012.py\"\u001b[1;36m, line \u001b[1;32m1\u001b[0m\n\u001b[1;33m    df = pd.read_csv(F:\\MS data science\\Ma'am Sanam\\matlop\\wheat1.csv\", index_col=0)\u001b[0m\n\u001b[1;37m                      ^\u001b[0m\n\u001b[1;31mSyntaxError\u001b[0m\u001b[1;31m:\u001b[0m invalid syntax\n"
     ]
    }
   ],
   "source": [
    "df = pd.read_csv(F:\\MS data science\\Ma'am Sanam\\matlop\\wheat1.csv\", index_col=0)\n",
    "#Prints columns in present in your csv file\n",
    "print(df.columns)\t"
   ]
  },
  {
   "cell_type": "code",
   "execution_count": null,
   "id": "144f9715",
   "metadata": {},
   "outputs": [],
   "source": []
  },
  {
   "cell_type": "code",
   "execution_count": null,
   "id": "13535a7b",
   "metadata": {},
   "outputs": [],
   "source": []
  },
  {
   "cell_type": "code",
   "execution_count": null,
   "id": "c113cc68",
   "metadata": {},
   "outputs": [],
   "source": []
  },
  {
   "cell_type": "code",
   "execution_count": null,
   "id": "8327e359",
   "metadata": {},
   "outputs": [],
   "source": []
  },
  {
   "cell_type": "code",
   "execution_count": null,
   "id": "84f2b6ee",
   "metadata": {},
   "outputs": [],
   "source": []
  },
  {
   "cell_type": "code",
   "execution_count": null,
   "id": "e7f7bddc",
   "metadata": {},
   "outputs": [],
   "source": []
  }
 ],
 "metadata": {
  "kernelspec": {
   "display_name": "Python 3 (ipykernel)",
   "language": "python",
   "name": "python3"
  },
  "language_info": {
   "codemirror_mode": {
    "name": "ipython",
    "version": 3
   },
   "file_extension": ".py",
   "mimetype": "text/x-python",
   "name": "python",
   "nbconvert_exporter": "python",
   "pygments_lexer": "ipython3",
   "version": "3.9.13"
  }
 },
 "nbformat": 4,
 "nbformat_minor": 5
}
